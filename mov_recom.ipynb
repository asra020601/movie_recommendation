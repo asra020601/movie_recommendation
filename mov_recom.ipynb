{
 "cells": [
  {
   "attachments": {},
   "cell_type": "markdown",
   "metadata": {},
   "source": [
    "Movie Recommendation System "
   ]
  },
  {
   "cell_type": "code",
   "execution_count": null,
   "metadata": {},
   "outputs": [],
   "source": [
    "import pandas as pd\n",
    "import numpy as np \n",
    "from sklearn.feature_extraction.text import CountVectorizer \n",
    "from sklearn.metrics.pairwise import cosine_similarity\n",
    "movies = pd.read_csv (\"https://raw.githubusercontent.com/MahnoorJaved98/Movie-Recommendation-System/main/movie_dataset.csv\")\n",
    "movies.head(5)"
   ]
  },
  {
   "cell_type": "code",
   "execution_count": null,
   "metadata": {},
   "outputs": [],
   "source": [
    "features = [\"keywords\", \"cast\",\"director\" , \"genres\"]\n",
    "for feature in features:\n",
    "  movies[feature] = movies[feature].fillna(\" \")\n",
    "def combined_features(row):\n",
    "    return row['keywords']+\" \"+row['cast']+\" \"+row['director']+\"\"+row['genres']\n",
    "movies[\"Combined_Features\"] = combined_features(movies)\n",
    "  \n"
   ]
  },
  {
   "cell_type": "code",
   "execution_count": null,
   "metadata": {},
   "outputs": [],
   "source": [
    "cv = CountVectorizer()\n",
    "count_matrix = cv.fit_transform(movies[\"Combined_Features\"])\n",
    "print(\"Count Matrix : \" , count_matrix.toarray())"
   ]
  },
  {
   "cell_type": "code",
   "execution_count": null,
   "metadata": {},
   "outputs": [],
   "source": [
    "cosine_sim = cosine_similarity(count_matrix)\n",
    "cosine_sim"
   ]
  },
  {
   "cell_type": "code",
   "execution_count": null,
   "metadata": {},
   "outputs": [],
   "source": [
    "user_movie = input()\n",
    "def get_movie_index(title):\n",
    "     return movies[movies.title ==title][\"index\"].values[0]\n",
    "\n",
    "movie_index = get_movie_index(user_movie)\n",
    "movie_index"
   ]
  },
  {
   "cell_type": "code",
   "execution_count": null,
   "metadata": {},
   "outputs": [],
   "source": [
    "similar_movies = list(enumerate(cosine_sim[movie_index]))\n"
   ]
  },
  {
   "cell_type": "code",
   "execution_count": null,
   "metadata": {},
   "outputs": [],
   "source": [
    "sorted_similar_movies = sorted(similar_movies,key=lambda x:x[1], reverse = True)"
   ]
  },
  {
   "cell_type": "code",
   "execution_count": null,
   "metadata": {},
   "outputs": [],
   "source": [
    "def get_movie_title(index):\n",
    "     return movies[movies.index == index][\"title\"].values[0]\n",
    "i = 0 \n",
    "for movie in sorted_similar_movies:\n",
    "  print(get_movie_title(movie[0]))\n",
    "  i = i +1\n",
    "  if i>15:\n",
    "      break;"
   ]
  }
 ],
 "metadata": {
  "language_info": {
   "name": "python"
  },
  "orig_nbformat": 4
 },
 "nbformat": 4,
 "nbformat_minor": 2
}
